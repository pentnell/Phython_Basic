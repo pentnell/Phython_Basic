{
  "nbformat": 4,
  "nbformat_minor": 0,
  "metadata": {
    "colab": {
      "name": "start python.ipynb",
      "provenance": [],
      "collapsed_sections": [],
      "authorship_tag": "ABX9TyNac9eW6LLgXRdvIA3EDtIz",
      "include_colab_link": true
    },
    "kernelspec": {
      "name": "python3",
      "display_name": "Python 3"
    }
  },
  "cells": [
    {
      "cell_type": "markdown",
      "metadata": {
        "id": "view-in-github",
        "colab_type": "text"
      },
      "source": [
        "<a href=\"https://colab.research.google.com/github/pentnell/Phython_Basic/blob/main/start_python.ipynb\" target=\"_parent\"><img src=\"https://colab.research.google.com/assets/colab-badge.svg\" alt=\"Open In Colab\"/></a>"
      ]
    },
    {
      "cell_type": "markdown",
      "metadata": {
        "id": "KdP6Lqy5TlHu"
      },
      "source": [
        "### **[python 익히기]**"
      ]
    },
    {
      "cell_type": "markdown",
      "metadata": {
        "id": "DJJBfDaUTxA_"
      },
      "source": [
        "역시 모든 코딩의 시작은 Hello World!"
      ]
    },
    {
      "cell_type": "code",
      "metadata": {
        "id": "N37gPpoqTkh1"
      },
      "source": [
        ""
      ],
      "execution_count": null,
      "outputs": []
    }
  ]
}